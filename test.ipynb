{
 "cells": [
  {
   "cell_type": "code",
   "execution_count": 1,
   "metadata": {},
   "outputs": [],
   "source": [
    "import io,os , requests, json, datetime, uuid,base64,json,csv,pickle,uuid,requests,time\n",
    "from PIL import Image,PngImagePlugin\n",
    "from xml.dom.pulldom import parseString\n",
    "from flask import Flask, flash, redirect, render_template, send_file,request, session, abort, escape,jsonify\n",
    "from PIL import Image,PngImagePlugin\n",
    "from threading import Thread "
   ]
  },
  {
   "cell_type": "code",
   "execution_count": 2,
   "metadata": {},
   "outputs": [],
   "source": [
    "url = \"http://127.0.0.1:7861\""
   ]
  },
  {
   "cell_type": "code",
   "execution_count": 3,
   "metadata": {},
   "outputs": [],
   "source": [
    "ALLOWED_EXTENSIONS = {'png', 'jpg', 'jpeg'}\n",
    "queue = {}"
   ]
  },
  {
   "cell_type": "code",
   "execution_count": 4,
   "metadata": {},
   "outputs": [],
   "source": [
    "imageDic = {}\n",
    "with open('images.tsv', mode ='r',encoding='utf8')as file:\n",
    "    line = file.readline()\n",
    "    assert line.strip().startswith('UUID\\tparameters'), \"Data format error!\"\n",
    "    line = file.readline()\n",
    "    while line:\n",
    "        cache = line.strip().split('\\t')\n",
    "        imageDic[cache[0]] = json.loads(' '.join(cache[1:]))\n",
    "        line = file.readline()\n",
    "\n",
    "# clean\n",
    "del line\n",
    "del cache"
   ]
  },
  {
   "cell_type": "code",
   "execution_count": 5,
   "metadata": {},
   "outputs": [
    {
     "data": {
      "text/plain": [
       "{'0216077-d5d4-4e63-beb4-3a392c93f887': {'prompt': 'high quality,highres,1girl, cloud, high quality,highres,1girl,cloud, scenery, sunset',\n",
       "  'negative_prompt': 'lowres, bad anatomy, bad hands, text, error, missing fingers, extra digit, fewer digits, cropped, worst quality, low quality, normal quality, jpeg artifacts, signature, watermark, username, blurry,no_humans, lowres, bad anatomy, bad hands, text, error, missing fingers, extra digit, fewer digits, cropped, worst quality, low quality, normal quality, jpeg artifacts, signature, watermark, username, blurry,no_humans',\n",
       "  'steps': 32,\n",
       "  'sampler_index': 'DPM2 Karras',\n",
       "  'cfg_scale': 11.0,\n",
       "  'seed': 595727703,\n",
       "  'width': 1024,\n",
       "  'height': 512,\n",
       "  'model_hash': 'e6e8e1fc',\n",
       "  'denoising_strength': 0.0},\n",
       " '246ac8ac-9155-4a84-a17f-797f91dde1ad': {'prompt': 'high quality,highres,\\\\n1girl, cloud, high quality,highres,1girl,cloud, scenery, sunset\\\\n\\\\\\\\nmasterpiece',\n",
       "  'negative_prompt': 'lowres, bad anatomy, bad hands, text, error, missing fingers, extra digit, fewer digits, cropped, worst quality, low quality, normal quality, jpeg artifacts, signature, watermark, username, blurry,no_humans, lowres, bad anatomy, bad hands, text, error, missing fingers, extra digit, fewer digits, cropped, worst quality, low quality, normal quality, jpeg artifacts, signature, watermark, username, blurry,no_humans',\n",
       "  'steps': 32,\n",
       "  'sampler_index': 'DPM2 Karras',\n",
       "  'cfg_scale': 11.0,\n",
       "  'seed': 1106568072,\n",
       "  'width': 1024,\n",
       "  'height': 512,\n",
       "  'model_hash': 'e6e8e1fc',\n",
       "  'denoising_strength': 0.0},\n",
       " '182fe3d1-5709-46a0-8ad2-c16c2bc316df': {'pos_prompt': '',\n",
       "  'neg_prompt': '',\n",
       "  'steps': '',\n",
       "  'sampler': '',\n",
       "  'cfg': '',\n",
       "  'seed': '',\n",
       "  'width': '',\n",
       "  'height': '',\n",
       "  'model_hash': '',\n",
       "  'denoising_strength': ''},\n",
       " 'dac9055a-37a8-4ca3-89a5-f08020fc75f0': {'prompt': 'cloud, high quality,highres,1girl,cloud, scenery, sunset',\n",
       "  'negative_prompt': 'lowres, bad anatomy, bad hands, text, error, missing fingers, extra digit, fewer digits, cropped, worst quality, low quality, normal quality, jpeg artifacts, signature, watermark, username, blurry,no_humans',\n",
       "  'steps': 32,\n",
       "  'sampler_index': 'Euler a',\n",
       "  'cfg_scale': 11.0,\n",
       "  'seed': 625594941,\n",
       "  'width': 1024,\n",
       "  'height': 512,\n",
       "  'model_hash': 'e6e8e1fc',\n",
       "  'denoising_strength': 0.0},\n",
       " '8dbd4b63-d9f7-4caf-b83a-98ab39e64bc0': {'prompt': 'high quality,highres,1girl, cloud, high quality,highres,1girl,cloud, scenery, sunset',\n",
       "  'negative_prompt': 'lowres, bad anatomy, bad hands, text, error, missing fingers, extra digit, fewer digits, cropped, worst quality, low quality, normal quality, jpeg artifacts, signature, watermark, username, blurry,no_humans, lowres, bad anatomy, bad hands, text, error, missing fingers, extra digit, fewer digits, cropped, worst quality, low quality, normal quality, jpeg artifacts, signature, watermark, username, blurry,no_humans',\n",
       "  'steps': 32,\n",
       "  'sampler_index': 'DPM2 Karras',\n",
       "  'cfg_scale': 11.0,\n",
       "  'seed': 1182135976,\n",
       "  'width': 1024,\n",
       "  'height': 512,\n",
       "  'model_hash': 'e6e8e1fc',\n",
       "  'denoising_strength': 0.0},\n",
       " 'fcd3d764-7032-416e-8b2f-e8659dad9291': {'prompt': 'high quality,highres,1girl, cloud, high quality,highres,1girl,cloud, scenery, sunset',\n",
       "  'negative_prompt': 'lowres, bad anatomy, bad hands, text, error, missing fingers, extra digit, fewer digits, cropped, worst quality, low quality, normal quality, jpeg artifacts, signature, watermark, username, blurry,no_humans, lowres, bad anatomy, bad hands, text, error, missing fingers, extra digit, fewer digits, cropped, worst quality, low quality, normal quality, jpeg artifacts, signature, watermark, username, blurry,no_humans',\n",
       "  'steps': 32,\n",
       "  'sampler_index': 'DPM2 Karras',\n",
       "  'cfg_scale': 11.0,\n",
       "  'seed': 3975995499,\n",
       "  'width': 1024,\n",
       "  'height': 512,\n",
       "  'model_hash': 'e6e8e1fc',\n",
       "  'denoising_strength': 0.0},\n",
       " '7b2ac857-c3ab-479c-828b-3898d5f6a6e0': {'prompt': 'high quality,highres,1girl, cloud, high quality,highres,1girl,cloud, scenery, sunset',\n",
       "  'negative_prompt': 'lowres, bad anatomy, bad hands, text, error, missing fingers, extra digit, fewer digits, cropped, worst quality, low quality, normal quality, jpeg artifacts, signature, watermark, username, blurry,no_humans, lowres, bad anatomy, bad hands, text, error, missing fingers, extra digit, fewer digits, cropped, worst quality, low quality, normal quality, jpeg artifacts, signature, watermark, username, blurry,no_humans',\n",
       "  'steps': 32,\n",
       "  'sampler_index': 'DPM2 Karras',\n",
       "  'cfg_scale': 11.0,\n",
       "  'seed': 907460195,\n",
       "  'width': 1024,\n",
       "  'height': 512,\n",
       "  'model_hash': 'e6e8e1fc',\n",
       "  'denoising_strength': 0.0},\n",
       " '50c90643-fe32-44c4-8667-437de19987e8': {'prompt': 'high quality,highres,1girl, cloud, high quality,highres,1girl,cloud, scenery, sunset',\n",
       "  'negative_prompt': 'lowres, bad anatomy, bad hands, text, error, missing fingers, extra digit, fewer digits, cropped, worst quality, low quality, normal quality, jpeg artifacts, signature, watermark, username, blurry,no_humans, lowres, bad anatomy, bad hands, text, error, missing fingers, extra digit, fewer digits, cropped, worst quality, low quality, normal quality, jpeg artifacts, signature, watermark, username, blurry,no_humans',\n",
       "  'steps': 32,\n",
       "  'sampler_index': 'DPM2 Karras',\n",
       "  'cfg_scale': 11.0,\n",
       "  'seed': 471519214,\n",
       "  'width': 1024,\n",
       "  'height': 512,\n",
       "  'model_hash': 'e6e8e1fc',\n",
       "  'denoising_strength': 0.0},\n",
       " '117d8712-8ae0-4968-9328-d9905692e967': {'prompt': 'high quality,highres,1girl, cloud, high quality,highres,1girl,cloud, scenery, sunset',\n",
       "  'negative_prompt': 'lowres, bad anatomy, bad hands, text, error, missing fingers, extra digit, fewer digits, cropped, worst quality, low quality, normal quality, jpeg artifacts, signature, watermark, username, blurry,no_humans, lowres, bad anatomy, bad hands, text, error, missing fingers, extra digit, fewer digits, cropped, worst quality, low quality, normal quality, jpeg artifacts, signature, watermark, username, blurry,no_humans',\n",
       "  'steps': 32,\n",
       "  'sampler_index': 'DPM2 Karras',\n",
       "  'cfg_scale': 11.0,\n",
       "  'seed': 2868178577,\n",
       "  'width': 1024,\n",
       "  'height': 512,\n",
       "  'model_hash': 'e6e8e1fc',\n",
       "  'denoising_strength': 0.0},\n",
       " '3e19967c-4446-4906-a2b5-4657c4b408ec': {'prompt': 'high quality,highres,1girl, cloud, high quality,highres,1girl,cloud, scenery, sunset',\n",
       "  'negative_prompt': 'lowres, bad anatomy, bad hands, text, error, missing fingers, extra digit, fewer digits, cropped, worst quality, low quality, normal quality, jpeg artifacts, signature, watermark, username, blurry,no_humans, lowres, bad anatomy, bad hands, text, error, missing fingers, extra digit, fewer digits, cropped, worst quality, low quality, normal quality, jpeg artifacts, signature, watermark, username, blurry,no_humans',\n",
       "  'steps': 32,\n",
       "  'sampler_index': 'DPM2 Karras',\n",
       "  'cfg_scale': 11.0,\n",
       "  'seed': 3098717190,\n",
       "  'width': 1024,\n",
       "  'height': 512,\n",
       "  'model_hash': 'e6e8e1fc',\n",
       "  'denoising_strength': 0.0},\n",
       " 'cc6cd494-2275-4258-b59e-a8ee78217423': {'prompt': 'high quality,highres,1girl, cloud, high quality,highres,1girl,cloud, scenery, sunset',\n",
       "  'negative_prompt': 'lowres, bad anatomy, bad hands, text, error, missing fingers, extra digit, fewer digits, cropped, worst quality, low quality, normal quality, jpeg artifacts, signature, watermark, username, blurry,no_humans, lowres, bad anatomy, bad hands, text, error, missing fingers, extra digit, fewer digits, cropped, worst quality, low quality, normal quality, jpeg artifacts, signature, watermark, username, blurry,no_humans',\n",
       "  'steps': 32,\n",
       "  'sampler_index': 'DPM2 Karras',\n",
       "  'cfg_scale': 11.0,\n",
       "  'seed': 1282833494,\n",
       "  'width': 1024,\n",
       "  'height': 512,\n",
       "  'model_hash': 'e6e8e1fc',\n",
       "  'denoising_strength': 0.0},\n",
       " 'c44275bf-03fd-4409-965e-35739be3e124': {'prompt': 'high quality,highres,1girl, cloud, high quality,highres,1girl,cloud, scenery, sunset',\n",
       "  'negative_prompt': 'lowres, bad anatomy, bad hands, text, error, missing fingers, extra digit, fewer digits, cropped, worst quality, low quality, normal quality, jpeg artifacts, signature, watermark, username, blurry,no_humans, lowres, bad anatomy, bad hands, text, error, missing fingers, extra digit, fewer digits, cropped, worst quality, low quality, normal quality, jpeg artifacts, signature, watermark, username, blurry,no_humans',\n",
       "  'steps': 32,\n",
       "  'sampler_index': 'DPM2 Karras',\n",
       "  'cfg_scale': 11.0,\n",
       "  'seed': 1600604489,\n",
       "  'width': 1024,\n",
       "  'height': 512,\n",
       "  'model_hash': 'e6e8e1fc',\n",
       "  'denoising_strength': 0.0},\n",
       " '14537b26-2e44-43b0-a2d0-f45310d08863': {'prompt': 'high quality,highres,1girl, cloud, high quality,highres,1girl,cloud, scenery, sunset',\n",
       "  'negative_prompt': 'lowres, bad anatomy, bad hands, text, error, missing fingers, extra digit, fewer digits, cropped, worst quality, low quality, normal quality, jpeg artifacts, signature, watermark, username, blurry,no_humans, lowres, bad anatomy, bad hands, text, error, missing fingers, extra digit, fewer digits, cropped, worst quality, low quality, normal quality, jpeg artifacts, signature, watermark, username, blurry,no_humans',\n",
       "  'steps': 32,\n",
       "  'sampler_index': 'DPM2 Karras',\n",
       "  'cfg_scale': 11.0,\n",
       "  'seed': 1991478186,\n",
       "  'width': 1024,\n",
       "  'height': 512,\n",
       "  'model_hash': 'e6e8e1fc',\n",
       "  'denoising_strength': 0.0},\n",
       " '57d9cdfe-9682-4f2f-8456-0f993646c74c': {'prompt': 'cloud, high quality,highres,1girl,cloud, scenery, sunset',\n",
       "  'negative_prompt': 'lowres, bad anatomy, bad hands, text, error, missing fingers, extra digit, fewer digits, cropped, worst quality, low quality, normal quality, jpeg artifacts, signature, watermark, username, blurry,no_humans',\n",
       "  'steps': 32,\n",
       "  'sampler_index': 'Euler a',\n",
       "  'cfg_scale': 11.0,\n",
       "  'seed': 2230242004,\n",
       "  'width': 1024,\n",
       "  'height': 512,\n",
       "  'model_hash': 'e6e8e1fc',\n",
       "  'denoising_strength': 0.0},\n",
       " '589a9494-927b-4a76-9daa-8d6714d7f799': {'prompt': 'cloud, high quality,highres,1girl,cloud, scenery, sunset',\n",
       "  'negative_prompt': 'lowres, bad anatomy, bad hands, text, error, missing fingers, extra digit, fewer digits, cropped, worst quality, low quality, normal quality, jpeg artifacts, signature, watermark, username, blurry,no_humans',\n",
       "  'steps': 32,\n",
       "  'sampler_index': 'Euler a',\n",
       "  'cfg_scale': 11.0,\n",
       "  'seed': 2688203911,\n",
       "  'width': 1024,\n",
       "  'height': 512,\n",
       "  'model_hash': 'e6e8e1fc',\n",
       "  'denoising_strength': 0.0},\n",
       " '648db839-d772-456f-88a8-a587e8869c80': {'prompt': 'cloud, high quality,highres,1girl,cloud, scenery, sunset',\n",
       "  'negative_prompt': 'lowres, bad anatomy, bad hands, text, error, missing fingers, extra digit, fewer digits, cropped, worst quality, low quality, normal quality, jpeg artifacts, signature, watermark, username, blurry,no_humans',\n",
       "  'steps': 32,\n",
       "  'sampler_index': 'Euler a',\n",
       "  'cfg_scale': 11.0,\n",
       "  'seed': 2000239688,\n",
       "  'width': 1024,\n",
       "  'height': 512,\n",
       "  'model_hash': 'e6e8e1fc',\n",
       "  'denoising_strength': 0.0},\n",
       " '05cca5a1-087b-4a65-bf33-3b7df0a40e03': {'prompt': 'high quality,highres,1girl, cloud, high quality,highres,1girl,cloud, scenery, sunset',\n",
       "  'negative_prompt': 'lowres, bad anatomy, bad hands, text, error, missing fingers, extra digit, fewer digits, cropped, worst quality, low quality, normal quality, jpeg artifacts, signature, watermark, username, blurry,no_humans, lowres, bad anatomy, bad hands, text, error, missing fingers, extra digit, fewer digits, cropped, worst quality, low quality, normal quality, jpeg artifacts, signature, watermark, username, blurry,no_humans',\n",
       "  'steps': 32,\n",
       "  'sampler_index': 'DPM2 Karras',\n",
       "  'cfg_scale': 11.0,\n",
       "  'seed': 3874683804,\n",
       "  'width': 1024,\n",
       "  'height': 512,\n",
       "  'model_hash': 'e6e8e1fc',\n",
       "  'denoising_strength': 0.0},\n",
       " '7bb03ccb-f9b4-4e09-874a-3b53d4d6cc1d': {'prompt': 'high quality,highres,1girl, cloud, high quality,highres,1girl,cloud, scenery, sunset',\n",
       "  'negative_prompt': 'lowres, bad anatomy, bad hands, text, error, missing fingers, extra digit, fewer digits, cropped, worst quality, low quality, normal quality, jpeg artifacts, signature, watermark, username, blurry,no_humans, lowres, bad anatomy, bad hands, text, error, missing fingers, extra digit, fewer digits, cropped, worst quality, low quality, normal quality, jpeg artifacts, signature, watermark, username, blurry,no_humans',\n",
       "  'steps': 32,\n",
       "  'sampler_index': 'DPM2 Karras',\n",
       "  'cfg_scale': 11.0,\n",
       "  'seed': 3893973150,\n",
       "  'width': 1024,\n",
       "  'height': 512,\n",
       "  'model_hash': 'e6e8e1fc',\n",
       "  'denoising_strength': 0.0},\n",
       " 'cb8453a9-b74d-48e6-98c3-5f538951400c': {'prompt': 'high quality,highres,1girl, cloud, high quality,highres,1girl,cloud, scenery, sunset',\n",
       "  'negative_prompt': 'lowres, bad anatomy, bad hands, text, error, missing fingers, extra digit, fewer digits, cropped, worst quality, low quality, normal quality, jpeg artifacts, signature, watermark, username, blurry,no_humans, lowres, bad anatomy, bad hands, text, error, missing fingers, extra digit, fewer digits, cropped, worst quality, low quality, normal quality, jpeg artifacts, signature, watermark, username, blurry,no_humans',\n",
       "  'steps': 32,\n",
       "  'sampler_index': 'DPM2 Karras',\n",
       "  'cfg_scale': 11.0,\n",
       "  'seed': 148218264,\n",
       "  'width': 1024,\n",
       "  'height': 512,\n",
       "  'model_hash': 'e6e8e1fc',\n",
       "  'denoising_strength': 0.0},\n",
       " '539c87d8-1db4-435d-a3b7-4dd5b377027b': {'prompt': 'high quality,highres,1girl, cloud, high quality,highres,1girl,cloud, scenery, sunset',\n",
       "  'negative_prompt': 'lowres, bad anatomy, bad hands, text, error, missing fingers, extra digit, fewer digits, cropped, worst quality, low quality, normal quality, jpeg artifacts, signature, watermark, username, blurry,no_humans, lowres, bad anatomy, bad hands, text, error, missing fingers, extra digit, fewer digits, cropped, worst quality, low quality, normal quality, jpeg artifacts, signature, watermark, username, blurry,no_humans',\n",
       "  'steps': 32,\n",
       "  'sampler_index': 'DPM2 Karras',\n",
       "  'cfg_scale': 11.0,\n",
       "  'seed': 1901985931,\n",
       "  'width': 1024,\n",
       "  'height': 512,\n",
       "  'model_hash': 'e6e8e1fc',\n",
       "  'denoising_strength': 0.0},\n",
       " '9bb50429-2d1f-4e24-85db-e1fd90f551bb': {'prompt': 'high quality,highres,1girl, cloud, high quality,highres,1girl,cloud, scenery, sunset',\n",
       "  'negative_prompt': 'lowres, bad anatomy, bad hands, text, error, missing fingers, extra digit, fewer digits, cropped, worst quality, low quality, normal quality, jpeg artifacts, signature, watermark, username, blurry,no_humans, lowres, bad anatomy, bad hands, text, error, missing fingers, extra digit, fewer digits, cropped, worst quality, low quality, normal quality, jpeg artifacts, signature, watermark, username, blurry,no_humans',\n",
       "  'steps': 32,\n",
       "  'sampler_index': 'DPM2 Karras',\n",
       "  'cfg_scale': 11.0,\n",
       "  'seed': 2533038284,\n",
       "  'width': 1024,\n",
       "  'height': 512,\n",
       "  'model_hash': 'e6e8e1fc',\n",
       "  'denoising_strength': 0.0},\n",
       " 'df634332-c656-4192-b40c-7e24cbaec803': {'prompt': 'high quality,highres,1girl, cloud, high quality,highres,1girl,cloud, scenery, sunset',\n",
       "  'negative_prompt': 'lowres, bad anatomy, bad hands, text, error, missing fingers, extra digit, fewer digits, cropped, worst quality, low quality, normal quality, jpeg artifacts, signature, watermark, username, blurry,no_humans, lowres, bad anatomy, bad hands, text, error, missing fingers, extra digit, fewer digits, cropped, worst quality, low quality, normal quality, jpeg artifacts, signature, watermark, username, blurry,no_humans',\n",
       "  'steps': 32,\n",
       "  'sampler_index': 'DPM2 Karras',\n",
       "  'cfg_scale': 11.0,\n",
       "  'seed': 1553248309,\n",
       "  'width': 1024,\n",
       "  'height': 512,\n",
       "  'model_hash': 'e6e8e1fc',\n",
       "  'denoising_strength': 0.0},\n",
       " 'f3957547-5757-4cf9-b7ab-e64862967dbd': {'prompt': 'high quality,highres,1girl, cloud, high quality,highres,1girl,cloud, scenery, sunset',\n",
       "  'negative_prompt': 'lowres, bad anatomy, bad hands, text, error, missing fingers, extra digit, fewer digits, cropped, worst quality, low quality, normal quality, jpeg artifacts, signature, watermark, username, blurry,no_humans, lowres, bad anatomy, bad hands, text, error, missing fingers, extra digit, fewer digits, cropped, worst quality, low quality, normal quality, jpeg artifacts, signature, watermark, username, blurry,no_humans',\n",
       "  'steps': 32,\n",
       "  'sampler_index': 'DPM2 Karras',\n",
       "  'cfg_scale': 11.0,\n",
       "  'seed': 1862250084,\n",
       "  'width': 1024,\n",
       "  'height': 512,\n",
       "  'model_hash': 'e6e8e1fc',\n",
       "  'denoising_strength': 0.0},\n",
       " '371afd50-9db0-45fc-9629-cc6d10e85d4d': {'prompt': 'high quality,highres,1girl, cloud, high quality,highres,1girl,cloud, scenery, sunset',\n",
       "  'negative_prompt': 'lowres, bad anatomy, bad hands, text, error, missing fingers, extra digit, fewer digits, cropped, worst quality, low quality, normal quality, jpeg artifacts, signature, watermark, username, blurry,no_humans, lowres, bad anatomy, bad hands, text, error, missing fingers, extra digit, fewer digits, cropped, worst quality, low quality, normal quality, jpeg artifacts, signature, watermark, username, blurry,no_humans',\n",
       "  'steps': 32,\n",
       "  'sampler_index': 'DPM2 Karras',\n",
       "  'cfg_scale': 11.0,\n",
       "  'seed': 1547976075,\n",
       "  'width': 1024,\n",
       "  'height': 512,\n",
       "  'model_hash': 'e6e8e1fc',\n",
       "  'denoising_strength': 0.0},\n",
       " 'c0847f35-9368-424e-afbc-d7c637dacb8f': {'prompt': 'high quality,highres,1girl, cloud, high quality,highres,1girl,cloud, scenery, sunset',\n",
       "  'negative_prompt': 'lowres, bad anatomy, bad hands, text, error, missing fingers, extra digit, fewer digits, cropped, worst quality, low quality, normal quality, jpeg artifacts, signature, watermark, username, blurry,no_humans, lowres, bad anatomy, bad hands, text, error, missing fingers, extra digit, fewer digits, cropped, worst quality, low quality, normal quality, jpeg artifacts, signature, watermark, username, blurry,no_humans',\n",
       "  'steps': 32,\n",
       "  'sampler_index': 'DPM2 Karras',\n",
       "  'cfg_scale': 11.0,\n",
       "  'seed': 4164886381,\n",
       "  'width': 1024,\n",
       "  'height': 512,\n",
       "  'model_hash': 'e6e8e1fc',\n",
       "  'denoising_strength': 0.0},\n",
       " '48e8d060-c5b6-4748-9304-185aa4fdfdf2': {'prompt': 'high quality,highres,1girl, cloud, high quality,highres,1girl,cloud, scenery, sunset',\n",
       "  'negative_prompt': 'lowres, bad anatomy, bad hands, text, error, missing fingers, extra digit, fewer digits, cropped, worst quality, low quality, normal quality, jpeg artifacts, signature, watermark, username, blurry,no_humans, lowres, bad anatomy, bad hands, text, error, missing fingers, extra digit, fewer digits, cropped, worst quality, low quality, normal quality, jpeg artifacts, signature, watermark, username, blurry,no_humans',\n",
       "  'steps': 32,\n",
       "  'sampler_index': 'DPM2 Karras',\n",
       "  'cfg_scale': 11.0,\n",
       "  'seed': 2847527302,\n",
       "  'width': 1024,\n",
       "  'height': 512,\n",
       "  'model_hash': 'e6e8e1fc',\n",
       "  'denoising_strength': 0.0},\n",
       " '612d535c-8024-4732-9312-556772368ec7': {'prompt': 'high quality,highres,1girl, cloud, high quality,highres,1girl,cloud, scenery, sunset',\n",
       "  'negative_prompt': 'lowres, bad anatomy, bad hands, text, error, missing fingers, extra digit, fewer digits, cropped, worst quality, low quality, normal quality, jpeg artifacts, signature, watermark, username, blurry,no_humans, lowres, bad anatomy, bad hands, text, error, missing fingers, extra digit, fewer digits, cropped, worst quality, low quality, normal quality, jpeg artifacts, signature, watermark, username, blurry,no_humans',\n",
       "  'steps': 32,\n",
       "  'sampler_index': 'DPM2 Karras',\n",
       "  'cfg_scale': 11.0,\n",
       "  'seed': 2562670075,\n",
       "  'width': 1024,\n",
       "  'height': 512,\n",
       "  'model_hash': 'e6e8e1fc',\n",
       "  'denoising_strength': 0.0}}"
      ]
     },
     "execution_count": 5,
     "metadata": {},
     "output_type": "execute_result"
    }
   ],
   "source": [
    "imageDic"
   ]
  },
  {
   "cell_type": "code",
   "execution_count": 29,
   "metadata": {},
   "outputs": [],
   "source": [
    "# from diffusers import StableDiffusionPipeline\n",
    "# import torch\n",
    "# from torch import autocast"
   ]
  },
  {
   "cell_type": "code",
   "execution_count": 30,
   "metadata": {},
   "outputs": [],
   "source": [
    "# pipe = StableDiffusionPipeline.from_pretrained(\n",
    "#     'hakurei/waifu-diffusion',\n",
    "#     torch_dtype=torch.float32\n",
    "# ).to('cuda')"
   ]
  },
  {
   "cell_type": "code",
   "execution_count": 31,
   "metadata": {},
   "outputs": [],
   "source": [
    "# with autocast(\"cuda\"):\n",
    "#     image = pipe(prompt, guidance_scale=11).images[0]  "
   ]
  },
  {
   "cell_type": "code",
   "execution_count": 32,
   "metadata": {},
   "outputs": [],
   "source": [
    "# image.save(\"test.png\")"
   ]
  },
  {
   "cell_type": "code",
   "execution_count": 6,
   "metadata": {},
   "outputs": [],
   "source": [
    "def formDicFromString(inputString):\n",
    "    denoising_strength = inputString.partition(\"Denoising strength:\")[2].partition(',')[0]\n",
    "    denoising_strength = denoising_strength if denoising_strength else '0.0'\n",
    "    model_hash = inputString.partition(\"Model hash:\")[2].partition(',')[0]\n",
    "    size = inputString.partition(\"Size:\")[2].partition(',')[0]\n",
    "    width,null,height = size.strip(', \\n').partition('x')\n",
    "    seed = inputString.partition(\"Seed:\")[2].partition(',')[0]\n",
    "    cfg = inputString.partition(\"CFG scale:\")[2].partition(',')[0]\n",
    "    sampler = inputString.partition(\"Sampler:\")[2].partition(',')[0]\n",
    "    steps = inputString.partition(\"Steps:\")[2].partition(',')[0]\n",
    "    pos_prompt,null,neg_prompt = inputString.rpartition(\"Negative prompt:\")\n",
    "    neg_prompt = neg_prompt.rpartition(\"\\n\")[0]\n",
    "    return {\n",
    "        'prompt'            : pos_prompt.strip(', \\n'),\n",
    "        'negative_prompt'   : neg_prompt.strip(', \\n'),\n",
    "        'steps'             : int(steps.strip(', \\n')),\n",
    "        \"sampler_index\"     : sampler.strip(', \\n'),\n",
    "        \"cfg_scale\"         : float(cfg.strip(', \\n')),\n",
    "        \"seed\"              : int(seed.strip(', \\n')),\n",
    "        \"width\"             : int(width.strip(', \\n')),\n",
    "        \"height\"            : int(height.strip(', \\n')),\n",
    "        \"model_hash\"        : model_hash.strip(', \\n'),\n",
    "        \"denoising_strength\": float(denoising_strength.strip(', \\n'))\n",
    "    }\n"
   ]
  },
  {
   "cell_type": "code",
   "execution_count": 7,
   "metadata": {},
   "outputs": [],
   "source": [
    "def storeImg(img,params):\n",
    "    # img need to be a pil object\n",
    "    myUUID = str(uuid.uuid4())\n",
    "    if not os.path.isdir(\"static/\"+myUUID[:3]):\n",
    "        os.makedirs(\"static/\"+myUUID[:3])\n",
    "    pnginfo_data = PngImagePlugin.PngInfo()\n",
    "    for k, v in params.items():\n",
    "        pnginfo_data.add_text(k, str(v))\n",
    "    img.save(\"static/\"+myUUID[:3]+'/'+myUUID+'.png', pnginfo=pnginfo_data)\n",
    "    params['denoising_strength'] = params['denoising_strength'] if params['denoising_strength'] else 0.0\n",
    "    dic = {\n",
    "        'prompt'            : params['prompt'].strip(', \\n'),\n",
    "        'negative_prompt'   : params['negative_prompt'].strip(', \\n'),\n",
    "        'steps'             : int(params['steps']),\n",
    "        \"sampler_index\"     : params['sampler'].strip(', \\n'),\n",
    "        \"cfg_scale\"         : float(params['cfg_scale']),\n",
    "        \"seed\"              : int(params['seed']),\n",
    "        \"width\"             : int(params['width']),\n",
    "        \"height\"            : int(params['height']),\n",
    "        \"model_hash\"        : params['sd_model_hash'].strip(', \\n'),\n",
    "        \"denoising_strength\": float(params['denoising_strength'])\n",
    "    }\n",
    "    with open('images.tsv', mode ='a',encoding='utf8')as file:\n",
    "        file.write(myUUID+'\\t'+json.dumps(dic)+'\\n')\n",
    "    imageDic[myUUID] = dic"
   ]
  },
  {
   "cell_type": "code",
   "execution_count": 8,
   "metadata": {},
   "outputs": [],
   "source": [
    "def findFileFromUUID(UUID):\n",
    "    fileNames = ['static/'+UUID[:3]+'/'+UUID+'.'+file_extension for file_extension in ALLOWED_EXTENSIONS]\n",
    "    for fileName in fileNames:\n",
    "        if os.path.isfile(fileName):\n",
    "            return fileName\n",
    "    return ''"
   ]
  },
  {
   "cell_type": "code",
   "execution_count": 9,
   "metadata": {},
   "outputs": [],
   "source": [
    "def getImageParamsFromFile(UUID):\n",
    "    path = findFileFromUUID(UUID)\n",
    "    if path == '':\n",
    "        print('File with UUID of '+ UUID+ \" is not found!\")\n",
    "        return {}\n",
    "    with open(path, \"rb\") as image_file:\n",
    "        bs64_str = base64.b64encode(image_file.read())\n",
    "    payload = 'data:image/png;base64,'+bs64_str.decode()\n",
    "    res = requests.post(url+'/sdapi/v1/png-info', json = {'image':payload}).json()['info']\n",
    "    return formDicFromString(res)"
   ]
  },
  {
   "cell_type": "code",
   "execution_count": 10,
   "metadata": {},
   "outputs": [],
   "source": [
    "sample_text_promt = {\n",
    "  \"prompt\": \"cloud, high quality,highres,1girl,cloud, scenery, sunset\",\n",
    "  \"seed\": -1,\n",
    "  \"steps\": 32,\n",
    "  \"cfg_scale\": 11,\n",
    "  \"width\": 1024,\n",
    "  \"height\": 512,\n",
    "  \"negative_prompt\": \"lowres, bad anatomy, bad hands, text, error, missing fingers, extra digit, fewer digits, cropped, worst quality, low quality, normal quality, jpeg artifacts, signature, watermark, username, blurry,no_humans\",\n",
    "  \"sampler_index\": \"DPM2 Karras\"\n",
    "}\n"
   ]
  },
  {
   "cell_type": "code",
   "execution_count": 38,
   "metadata": {},
   "outputs": [
    {
     "data": {
      "text/plain": [
       "{'prompt': 'cloud, high quality,highres,1girl,cloud, scenery, sunset',\n",
       " 'seed': -1,\n",
       " 'steps': 32,\n",
       " 'cfg_scale': 11,\n",
       " 'width': 1024,\n",
       " 'height': 512,\n",
       " 'negative_prompt': 'lowres, bad anatomy, bad hands, text, error, missing fingers, extra digit, fewer digits, cropped, worst quality, low quality, normal quality, jpeg artifacts, signature, watermark, username, blurry,no_humans',\n",
       " 'sampler_index': 'DPM2 Karras'}"
      ]
     },
     "execution_count": 38,
     "metadata": {},
     "output_type": "execute_result"
    }
   ],
   "source": [
    "sample_text_promt"
   ]
  },
  {
   "cell_type": "code",
   "execution_count": 11,
   "metadata": {},
   "outputs": [
    {
     "data": {
      "text/plain": [
       "{'prompt': 'high quality,highres,1girl, cloud, high quality,highres,1girl,cloud, scenery, sunset',\n",
       " 'negative_prompt': 'lowres, bad anatomy, bad hands, text, error, missing fingers, extra digit, fewer digits, cropped, worst quality, low quality, normal quality, jpeg artifacts, signature, watermark, username, blurry,no_humans, lowres, bad anatomy, bad hands, text, error, missing fingers, extra digit, fewer digits, cropped, worst quality, low quality, normal quality, jpeg artifacts, signature, watermark, username, blurry,no_humans',\n",
       " 'steps': 32,\n",
       " 'sampler_index': 'DPM2 Karras',\n",
       " 'cfg_scale': 11.0,\n",
       " 'seed': 595727703,\n",
       " 'width': 1024,\n",
       " 'height': 512,\n",
       " 'model_hash': 'e6e8e1fc',\n",
       " 'denoising_strength': 0.0}"
      ]
     },
     "execution_count": 11,
     "metadata": {},
     "output_type": "execute_result"
    }
   ],
   "source": [
    "imageDic['0216077-d5d4-4e63-beb4-3a392c93f887']"
   ]
  },
  {
   "cell_type": "code",
   "execution_count": 12,
   "metadata": {},
   "outputs": [],
   "source": [
    "def generateImage(params):\n",
    "    myUUID = str(uuid.uuid4())\n",
    "    queue[myUUID] = params\n",
    "    return myUUID"
   ]
  },
  {
   "cell_type": "code",
   "execution_count": 13,
   "metadata": {},
   "outputs": [],
   "source": [
    "def newLike(UUID):\n",
    "    print(\"Generating a Image like \"+UUID+\"...\")\n",
    "    if not UUID in imageDic:\n",
    "        return send_file('static/no_source_image.webp')\n",
    "    if imageDic[UUID]['sampler_index'] == '':\n",
    "        return send_file('static/please_select_a_Stable_diffused_image.webp')\n",
    "    justLikeDic = imageDic[UUID].copy()\n",
    "    justLikeDic['seed'] = -1\n",
    "    # res = requests.post(url+'/sdapi/v1/txt2img', json = justLikeDic)\n",
    "    return json.dumps({'UUID':generateImage(justLikeDic),'Queue':len(queue)})\n",
    "    "
   ]
  },
  {
   "cell_type": "code",
   "execution_count": 56,
   "metadata": {},
   "outputs": [
    {
     "name": "stdout",
     "output_type": "stream",
     "text": [
      "Generating a Image like 0216077-d5d4-4e63-beb4-3a392c93f887...\n"
     ]
    },
    {
     "data": {
      "text/plain": [
       "'{\"UUID\": \"efb50313-ec75-4ff6-a21d-f8c50de9dd6e\", \"Queue\": 1}'"
      ]
     },
     "execution_count": 56,
     "metadata": {},
     "output_type": "execute_result"
    }
   ],
   "source": [
    "newLike('0216077-d5d4-4e63-beb4-3a392c93f887')"
   ]
  },
  {
   "cell_type": "code",
   "execution_count": 15,
   "metadata": {},
   "outputs": [
    {
     "data": {
      "text/plain": [
       "{}"
      ]
     },
     "execution_count": 15,
     "metadata": {},
     "output_type": "execute_result"
    }
   ],
   "source": [
    "queue"
   ]
  },
  {
   "cell_type": "code",
   "execution_count": 14,
   "metadata": {},
   "outputs": [
    {
     "ename": "StopIteration",
     "evalue": "",
     "output_type": "error",
     "traceback": [
      "\u001b[1;31m---------------------------------------------------------------------------\u001b[0m",
      "\u001b[1;31mStopIteration\u001b[0m                             Traceback (most recent call last)",
      "Cell \u001b[1;32mIn [14], line 1\u001b[0m\n\u001b[1;32m----> 1\u001b[0m \u001b[39mnext\u001b[39m(\u001b[39miter\u001b[39m(queue))\n",
      "\u001b[1;31mStopIteration\u001b[0m: "
     ]
    }
   ],
   "source": [
    "next(iter(queue))"
   ]
  },
  {
   "cell_type": "code",
   "execution_count": null,
   "metadata": {},
   "outputs": [],
   "source": [
    "blackImageUUID = '48e8d060-c5b6-4748-9304-185aa4fdfdf2'"
   ]
  },
  {
   "cell_type": "code",
   "execution_count": 45,
   "metadata": {},
   "outputs": [],
   "source": [
    "def imageIsBlack(img):\n",
    "    #TODO: need to implement check if image is black\n",
    "    return False"
   ]
  },
  {
   "cell_type": "code",
   "execution_count": 47,
   "metadata": {},
   "outputs": [],
   "source": [
    "def processor():\n",
    "    while True:\n",
    "        print(len(queue))\n",
    "        global stop_thread\n",
    "        if stop_thread:\n",
    "            break\n",
    "        if len(queue) > 0:\n",
    "            UUID = next(iter(queue))\n",
    "            res = requests.post(url+'/sdapi/v1/txt2img', json = queue[UUID])\n",
    "            img = res.json()[\"images\"][0]\n",
    "            info = json.loads(res.json()[\"info\"])\n",
    "            info['parameters'] = info['infotexts'][0].strip('\\'')\n",
    "            del info['infotexts']\n",
    "            if img.startswith(\"data:image/png;base64,\"):\n",
    "                img = img[len(\"data:image/png;base64,\"):]\n",
    "            img = base64.decodebytes(img.encode())\n",
    "            img = Image.open(io.BytesIO(img))\n",
    "            if imageIsBlack(img):\n",
    "                continue\n",
    "            else:\n",
    "                del queue[UUID]\n",
    "            storeImg(img,info)\n",
    "        time.sleep(1)\n"
   ]
  },
  {
   "cell_type": "code",
   "execution_count": 50,
   "metadata": {},
   "outputs": [
    {
     "name": "stdout",
     "output_type": "stream",
     "text": [
      "1\n"
     ]
    },
    {
     "name": "stdout",
     "output_type": "stream",
     "text": [
      "0\n",
      "0\n",
      "0\n",
      "0\n",
      "0\n"
     ]
    }
   ],
   "source": [
    "stop_thread = False\n",
    "thread = Thread(target = processor)\n",
    "thread.start()"
   ]
  },
  {
   "cell_type": "code",
   "execution_count": 53,
   "metadata": {},
   "outputs": [],
   "source": [
    "stop_thread = True\n",
    "thread.join()"
   ]
  },
  {
   "cell_type": "code",
   "execution_count": 52,
   "metadata": {},
   "outputs": [],
   "source": []
  },
  {
   "cell_type": "code",
   "execution_count": 16,
   "metadata": {},
   "outputs": [],
   "source": [
    "justLikeDic = imageDic['0216077-d5d4-4e63-beb4-3a392c93f887'].copy()"
   ]
  },
  {
   "cell_type": "code",
   "execution_count": 53,
   "metadata": {},
   "outputs": [],
   "source": [
    "justLikeDic['seed'] = -1"
   ]
  },
  {
   "cell_type": "code",
   "execution_count": 97,
   "metadata": {},
   "outputs": [
    {
     "data": {
      "text/plain": [
       "{'prompt': 'high quality,highres,1girl, cloud, high quality,highres,1girl,cloud, scenery, sunset',\n",
       " 'negative_prompt': 'lowres, bad anatomy, bad hands, text, error, missing fingers, extra digit, fewer digits, cropped, worst quality, low quality, normal quality, jpeg artifacts, signature, watermark, username, blurry,no_humans, lowres, bad anatomy, bad hands, text, error, missing fingers, extra digit, fewer digits, cropped, worst quality, low quality, normal quality, jpeg artifacts, signature, watermark, username, blurry,no_humans',\n",
       " 'steps': 32,\n",
       " 'cfg_scale': 11.0,\n",
       " 'seed': -1,\n",
       " 'width': 1024,\n",
       " 'height': 512,\n",
       " 'model_hash': 'e6e8e1fc',\n",
       " 'denoising_strength': 0.0,\n",
       " 'sampler_index': 'DPM2 Karras'}"
      ]
     },
     "execution_count": 97,
     "metadata": {},
     "output_type": "execute_result"
    }
   ],
   "source": [
    "justLikeDic"
   ]
  },
  {
   "cell_type": "code",
   "execution_count": 102,
   "metadata": {},
   "outputs": [],
   "source": [
    "res = requests.post(url+'/sdapi/v1/txt2img', json = justLikeDic)"
   ]
  },
  {
   "cell_type": "code",
   "execution_count": 57,
   "metadata": {},
   "outputs": [
    {
     "ename": "KeyError",
     "evalue": "'images'",
     "output_type": "error",
     "traceback": [
      "\u001b[1;31m---------------------------------------------------------------------------\u001b[0m",
      "\u001b[1;31mKeyError\u001b[0m                                  Traceback (most recent call last)",
      "Cell \u001b[1;32mIn [57], line 1\u001b[0m\n\u001b[1;32m----> 1\u001b[0m img \u001b[39m=\u001b[39m res\u001b[39m.\u001b[39mjson()[\u001b[39m\"\u001b[39m\u001b[39mimages\u001b[39m\u001b[39m\"\u001b[39m][\u001b[39m0\u001b[39m]\n\u001b[0;32m      2\u001b[0m info \u001b[39m=\u001b[39m json\u001b[39m.\u001b[39mloads(res\u001b[39m.\u001b[39mjson()[\u001b[39m\"\u001b[39m\u001b[39minfo\u001b[39m\u001b[39m\"\u001b[39m])\n\u001b[0;32m      3\u001b[0m info[\u001b[39m'\u001b[39m\u001b[39mparameters\u001b[39m\u001b[39m'\u001b[39m] \u001b[39m=\u001b[39m info[\u001b[39m'\u001b[39m\u001b[39minfotexts\u001b[39m\u001b[39m'\u001b[39m][\u001b[39m0\u001b[39m]\u001b[39m.\u001b[39mstrip(\u001b[39m'\u001b[39m\u001b[39m\\'\u001b[39;00m\u001b[39m'\u001b[39m)\n",
      "\u001b[1;31mKeyError\u001b[0m: 'images'"
     ]
    }
   ],
   "source": [
    "img = res.json()[\"images\"][0]\n",
    "info = json.loads(res.json()[\"info\"])\n",
    "info['parameters'] = info['infotexts'][0].strip('\\'')\n",
    "del info['infotexts']\n",
    "info['parameters']"
   ]
  },
  {
   "cell_type": "code",
   "execution_count": 42,
   "metadata": {},
   "outputs": [
    {
     "data": {
      "text/plain": [
       "{'enable_hr': False,\n",
       " 'denoising_strength': 0.0,\n",
       " 'firstphase_width': 0,\n",
       " 'firstphase_height': 0,\n",
       " 'prompt': 'high quality,highres,1girl, cloud, high quality,highres,1girl,cloud, scenery, sunset',\n",
       " 'styles': None,\n",
       " 'seed': -1,\n",
       " 'subseed': -1,\n",
       " 'subseed_strength': 0,\n",
       " 'seed_resize_from_h': -1,\n",
       " 'seed_resize_from_w': -1,\n",
       " 'batch_size': 1,\n",
       " 'n_iter': 1,\n",
       " 'steps': 32,\n",
       " 'cfg_scale': 11.0,\n",
       " 'width': 1024,\n",
       " 'height': 512,\n",
       " 'restore_faces': False,\n",
       " 'tiling': False,\n",
       " 'negative_prompt': 'lowres, bad anatomy, bad hands, text, error, missing fingers, extra digit, fewer digits, cropped, worst quality, low quality, normal quality, jpeg artifacts, signature, watermark, username, blurry,no_humans, lowres, bad anatomy, bad hands, text, error, missing fingers, extra digit, fewer digits, cropped, worst quality, low quality, normal quality, jpeg artifacts, signature, watermark, username, blurry,no_humans',\n",
       " 'eta': None,\n",
       " 's_churn': 0.0,\n",
       " 's_tmax': None,\n",
       " 's_tmin': 0.0,\n",
       " 's_noise': 1.0,\n",
       " 'override_settings': None,\n",
       " 'sampler_index': 'DPM2 Karras'}"
      ]
     },
     "execution_count": 42,
     "metadata": {},
     "output_type": "execute_result"
    }
   ],
   "source": [
    "res.json()[\"parameters\"]"
   ]
  },
  {
   "cell_type": "code",
   "execution_count": 103,
   "metadata": {},
   "outputs": [
    {
     "data": {
      "text/plain": [
       "'{\"prompt\": \"high quality,highres,1girl, cloud, high quality,highres,1girl,cloud, scenery, sunset\", \"all_prompts\": [\"high quality,highres,1girl, cloud, high quality,highres,1girl,cloud, scenery, sunset\"], \"negative_prompt\": \"lowres, bad anatomy, bad hands, text, error, missing fingers, extra digit, fewer digits, cropped, worst quality, low quality, normal quality, jpeg artifacts, signature, watermark, username, blurry,no_humans, lowres, bad anatomy, bad hands, text, error, missing fingers, extra digit, fewer digits, cropped, worst quality, low quality, normal quality, jpeg artifacts, signature, watermark, username, blurry,no_humans\", \"seed\": 3897137661, \"all_seeds\": [3897137661], \"subseed\": 1590214003, \"all_subseeds\": [1590214003], \"subseed_strength\": 0, \"width\": 1024, \"height\": 512, \"sampler_index\": 11, \"sampler\": \"DDIM\", \"cfg_scale\": 11.0, \"steps\": 32, \"batch_size\": 1, \"restore_faces\": false, \"face_restoration_model\": null, \"sd_model_hash\": \"e6e8e1fc\", \"seed_resize_from_w\": -1, \"seed_resize_from_h\": -1, \"denoising_strength\": 0.0, \"extra_generation_params\": {}, \"index_of_first_image\": 0, \"infotexts\": [\"high quality,highres,1girl, cloud, high quality,highres,1girl,cloud, scenery, sunset\\\\nNegative prompt: lowres, bad anatomy, bad hands, text, error, missing fingers, extra digit, fewer digits, cropped, worst quality, low quality, normal quality, jpeg artifacts, signature, watermark, username, blurry,no_humans, lowres, bad anatomy, bad hands, text, error, missing fingers, extra digit, fewer digits, cropped, worst quality, low quality, normal quality, jpeg artifacts, signature, watermark, username, blurry,no_humans\\\\nSteps: 32, Sampler: DDIM, CFG scale: 11.0, Seed: 3897137661, Size: 1024x512, Model hash: e6e8e1fc, Seed resize from: -1x-1, Denoising strength: 0.0\"], \"styles\": [], \"job_timestamp\": \"20221031043701\", \"clip_skip\": 1}'"
      ]
     },
     "execution_count": 103,
     "metadata": {},
     "output_type": "execute_result"
    }
   ],
   "source": [
    "res.json()[\"info\"]"
   ]
  },
  {
   "cell_type": "code",
   "execution_count": 21,
   "metadata": {},
   "outputs": [],
   "source": [
    "with open(\"static/117/117d8712-8ae0-4968-9328-d9905692e967.png\", \"rb\") as image_file:\n",
    "    bs64_str = base64.b64encode(image_file.read())\n",
    "decoded_string =io.BytesIO(base64.b64decode(bs64_str))\n",
    "sampleImage = Image.open(decoded_string)"
   ]
  },
  {
   "cell_type": "code",
   "execution_count": 22,
   "metadata": {},
   "outputs": [],
   "source": [
    "with open(\"static/48e/48e8d060-c5b6-4748-9304-185aa4fdfdf2.png\", \"rb\") as image_file:\n",
    "    bs64_str = base64.b64encode(image_file.read())\n",
    "decoded_string =io.BytesIO(base64.b64decode(bs64_str))\n",
    "blkImage = Image.open(decoded_string)"
   ]
  },
  {
   "cell_type": "code",
   "execution_count": 24,
   "metadata": {},
   "outputs": [],
   "source": [
    "blkImage.show()"
   ]
  },
  {
   "cell_type": "code",
   "execution_count": 29,
   "metadata": {},
   "outputs": [
    {
     "data": {
      "text/plain": [
       "False"
      ]
     },
     "execution_count": 29,
     "metadata": {},
     "output_type": "execute_result"
    }
   ],
   "source": [
    "not sampleImage.getbbox()"
   ]
  },
  {
   "cell_type": "code",
   "execution_count": 20,
   "metadata": {},
   "outputs": [],
   "source": [
    "if img.startswith(\"data:image/png;base64,\"):\n",
    "    img = img[len(\"data:image/png;base64,\"):]"
   ]
  },
  {
   "cell_type": "code",
   "execution_count": 24,
   "metadata": {},
   "outputs": [],
   "source": [
    "imgtest = base64.decodebytes(img.encode())"
   ]
  },
  {
   "cell_type": "code",
   "execution_count": 46,
   "metadata": {},
   "outputs": [],
   "source": [
    "if img.startswith(\"data:image/png;base64,\"):\n",
    "    img = img[len(\"data:image/png;base64,\"):]\n",
    "img = base64.decodebytes(img.encode())\n",
    "img = Image.open(io.BytesIO(img))"
   ]
  },
  {
   "cell_type": "code",
   "execution_count": 47,
   "metadata": {},
   "outputs": [],
   "source": [
    "img.show()"
   ]
  },
  {
   "cell_type": "code",
   "execution_count": 48,
   "metadata": {},
   "outputs": [
    {
     "data": {
      "text/plain": [
       "{'prompt': 'high quality,highres,1girl, cloud, high quality,highres,1girl,cloud, scenery, sunset',\n",
       " 'all_prompts': ['high quality,highres,1girl, cloud, high quality,highres,1girl,cloud, scenery, sunset'],\n",
       " 'negative_prompt': 'lowres, bad anatomy, bad hands, text, error, missing fingers, extra digit, fewer digits, cropped, worst quality, low quality, normal quality, jpeg artifacts, signature, watermark, username, blurry,no_humans, lowres, bad anatomy, bad hands, text, error, missing fingers, extra digit, fewer digits, cropped, worst quality, low quality, normal quality, jpeg artifacts, signature, watermark, username, blurry,no_humans',\n",
       " 'seed': 1584931009,\n",
       " 'all_seeds': [1584931009],\n",
       " 'subseed': 3364850668,\n",
       " 'all_subseeds': [3364850668],\n",
       " 'subseed_strength': 0,\n",
       " 'width': 1024,\n",
       " 'height': 512,\n",
       " 'sampler_index': 9,\n",
       " 'sampler': 'DDIM',\n",
       " 'cfg_scale': 11.0,\n",
       " 'steps': 32,\n",
       " 'batch_size': 1,\n",
       " 'restore_faces': False,\n",
       " 'face_restoration_model': None,\n",
       " 'sd_model_hash': 'e6e8e1fc',\n",
       " 'seed_resize_from_w': -1,\n",
       " 'seed_resize_from_h': -1,\n",
       " 'denoising_strength': 0.0,\n",
       " 'extra_generation_params': {},\n",
       " 'index_of_first_image': 0,\n",
       " 'infotexts': ['high quality,highres,1girl, cloud, high quality,highres,1girl,cloud, scenery, sunset\\nNegative prompt: lowres, bad anatomy, bad hands, text, error, missing fingers, extra digit, fewer digits, cropped, worst quality, low quality, normal quality, jpeg artifacts, signature, watermark, username, blurry,no_humans, lowres, bad anatomy, bad hands, text, error, missing fingers, extra digit, fewer digits, cropped, worst quality, low quality, normal quality, jpeg artifacts, signature, watermark, username, blurry,no_humans\\nSteps: 32, Sampler: DDIM, CFG scale: 11.0, Seed: 1584931009, Size: 1024x512, Model hash: e6e8e1fc, Seed resize from: -1x-1, Denoising strength: 0.0'],\n",
       " 'styles': [],\n",
       " 'job_timestamp': '20221031035844',\n",
       " 'clip_skip': 1}"
      ]
     },
     "execution_count": 48,
     "metadata": {},
     "output_type": "execute_result"
    }
   ],
   "source": [
    "info"
   ]
  },
  {
   "cell_type": "code",
   "execution_count": 49,
   "metadata": {},
   "outputs": [],
   "source": [
    "storeImg(img,info)"
   ]
  },
  {
   "cell_type": "code",
   "execution_count": 45,
   "metadata": {},
   "outputs": [],
   "source": [
    "payload = res.json()[\"images\"][0]"
   ]
  },
  {
   "cell_type": "code",
   "execution_count": 25,
   "metadata": {},
   "outputs": [
    {
     "data": {
      "text/plain": [
       "'{\"prompt\": \"high quality,highres,1girl, cloud, high quality,highres,1girl,cloud, scenery, sunset\", \"negative_prompt\": \"lowres, bad anatomy, bad hands, text, error, missing fingers, extra digit, fewer digits, cropped, worst quality, low quality, normal quality, jpeg artifacts, signature, watermark, username, blurry,no_humans, lowres, bad anatomy, bad hands, text, error, missing fingers, extra digit, fewer digits, cropped, worst quality, low quality, normal quality, jpeg artifacts, signature, watermark, username, blurry,no_humans\", \"steps\": 32, \"sampler_index\": \"DPM2 Karras\", \"cfg_scale\": 11.0, \"seed\": 595727703, \"width\": 1024, \"height\": 512, \"model_hash\": \"e6e8e1fc\", \"denoising_strength\": 0.0}'"
      ]
     },
     "execution_count": 25,
     "metadata": {},
     "output_type": "execute_result"
    }
   ],
   "source": [
    "json.dumps(getImageParamsFromFile('0216077-d5d4-4e63-beb4-3a392c93f887'))"
   ]
  }
 ],
 "metadata": {
  "kernelspec": {
   "display_name": "Python 3.10.7 64-bit",
   "language": "python",
   "name": "python3"
  },
  "language_info": {
   "codemirror_mode": {
    "name": "ipython",
    "version": 3
   },
   "file_extension": ".py",
   "mimetype": "text/x-python",
   "name": "python",
   "nbconvert_exporter": "python",
   "pygments_lexer": "ipython3",
   "version": "3.10.7"
  },
  "orig_nbformat": 4,
  "vscode": {
   "interpreter": {
    "hash": "e66561729588fc2fcb09d28710c33ed3600fb4199061a7dd168c5260d84c0181"
   }
  }
 },
 "nbformat": 4,
 "nbformat_minor": 2
}
