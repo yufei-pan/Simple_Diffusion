{
 "cells": [
  {
   "cell_type": "code",
   "execution_count": 2,
   "metadata": {},
   "outputs": [],
   "source": [
    "import json,csv,pickle"
   ]
  },
  {
   "cell_type": "code",
   "execution_count": 55,
   "metadata": {},
   "outputs": [],
   "source": [
    "with open('images.tsv', mode ='r',encoding='utf8')as file:\n",
    "    lines = file.readline()\n",
    "    assert lines.strip().startswith('UUID\\tparameters'), \"Data format error!\"\n",
    "    lines = file.readlines()"
   ]
  },
  {
   "cell_type": "code",
   "execution_count": 56,
   "metadata": {},
   "outputs": [
    {
     "data": {
      "text/plain": [
       "['0216077-d5d4-4e63-beb4-3a392c93f887\\t{\"Positive\": \"high quality,\\\\thighres,1girl,cloud, scenery, sunset\", \"Negative\": \"\", \"Ratio\": \"2\", \"Sampler\": \"DPM2KA\", \"Seed\": \"-1\"}\\n',\n",
       " '246ac8ac-9155-4a84-a17f-797f91dde1ad\\t{\"Positive\": \"high quality,highres,\\t1girl,cloud, scenery, sunset\", \"Negative\": \"\", \"Ratio\": \"2\", \"Sampler\": \"DPM2KA\", \"Seed\": \"-1\"}\\n',\n",
       " '182fe3d1-5709-46a0-8ad2-c16c2bc316df\\t{\"Positive\": \"high quality,highres,1girl,cloud, scenery, sunset\", \"Negative\": \"\", \"Ratio\": \"2\", \"Sampler\": \"DPM2KA\", \"Seed\": \"-1\"}']"
      ]
     },
     "execution_count": 56,
     "metadata": {},
     "output_type": "execute_result"
    }
   ],
   "source": [
    "lines"
   ]
  },
  {
   "cell_type": "code",
   "execution_count": 59,
   "metadata": {},
   "outputs": [],
   "source": [
    "imageDic = {}\n",
    "for line in lines:\n",
    "    cache = line.strip().split('\\t')\n",
    "    imageDic[cache[0]] = json.loads(' '.join(cache[1:]))"
   ]
  },
  {
   "cell_type": "code",
   "execution_count": 60,
   "metadata": {},
   "outputs": [
    {
     "data": {
      "text/plain": [
       "{'0216077-d5d4-4e63-beb4-3a392c93f887': {'Positive': 'high quality,\\thighres,1girl,cloud, scenery, sunset',\n",
       "  'Negative': '',\n",
       "  'Ratio': '2',\n",
       "  'Sampler': 'DPM2KA',\n",
       "  'Seed': '-1'},\n",
       " '246ac8ac-9155-4a84-a17f-797f91dde1ad': {'Positive': 'high quality,highres, 1girl,cloud, scenery, sunset',\n",
       "  'Negative': '',\n",
       "  'Ratio': '2',\n",
       "  'Sampler': 'DPM2KA',\n",
       "  'Seed': '-1'},\n",
       " '182fe3d1-5709-46a0-8ad2-c16c2bc316df': {'Positive': 'high quality,highres,1girl,cloud, scenery, sunset',\n",
       "  'Negative': '',\n",
       "  'Ratio': '2',\n",
       "  'Sampler': 'DPM2KA',\n",
       "  'Seed': '-1'}}"
      ]
     },
     "execution_count": 60,
     "metadata": {},
     "output_type": "execute_result"
    }
   ],
   "source": [
    "imageDic"
   ]
  },
  {
   "cell_type": "code",
   "execution_count": 3,
   "metadata": {},
   "outputs": [],
   "source": [
    "imageDic = {}\n",
    "with open('images.tsv', mode ='r',encoding='utf8')as file:\n",
    "    line = file.readline()\n",
    "    assert line.strip().startswith('UUID\\tparameters'), \"Data format error!\"\n",
    "    line = file.readline()\n",
    "    while line:\n",
    "        cache = line.strip().split('\\t')\n",
    "        imageDic[cache[0]] = json.loads(' '.join(cache[1:]))\n",
    "        line = file.readline()"
   ]
  },
  {
   "cell_type": "code",
   "execution_count": 4,
   "metadata": {},
   "outputs": [
    {
     "data": {
      "text/plain": [
       "{'0216077-d5d4-4e63-beb4-3a392c93f887': {'Positive': 'high quality,\\thighres,1girl,cloud, scenery, sunset',\n",
       "  'Negative': '',\n",
       "  'Ratio': '2',\n",
       "  'Sampler': 'DPM2KA',\n",
       "  'Seed': '-1'},\n",
       " '246ac8ac-9155-4a84-a17f-797f91dde1ad': {'Positive': 'high quality,highres, 1girl,cloud, scenery, sunset',\n",
       "  'Negative': '',\n",
       "  'Ratio': '2',\n",
       "  'Sampler': 'DPM2KA',\n",
       "  'Seed': '-1'},\n",
       " '182fe3d1-5709-46a0-8ad2-c16c2bc316df': {'Positive': 'high quality,highres,1girl,cloud, scenery, sunset',\n",
       "  'Negative': '',\n",
       "  'Ratio': '2',\n",
       "  'Sampler': 'DPM2KA',\n",
       "  'Seed': '-1'}}"
      ]
     },
     "execution_count": 4,
     "metadata": {},
     "output_type": "execute_result"
    }
   ],
   "source": [
    "imageDic"
   ]
  },
  {
   "cell_type": "code",
   "execution_count": 6,
   "metadata": {},
   "outputs": [],
   "source": [
    "line ,cache = 0,0"
   ]
  },
  {
   "cell_type": "code",
   "execution_count": 8,
   "metadata": {},
   "outputs": [
    {
     "data": {
      "text/plain": [
       "0"
      ]
     },
     "execution_count": 8,
     "metadata": {},
     "output_type": "execute_result"
    }
   ],
   "source": [
    "cache"
   ]
  },
  {
   "cell_type": "code",
   "execution_count": null,
   "metadata": {},
   "outputs": [],
   "source": [
    "def storeImg(img,params):\n",
    "    pass"
   ]
  },
  {
   "cell_type": "code",
   "execution_count": null,
   "metadata": {},
   "outputs": [],
   "source": []
  }
 ],
 "metadata": {
  "kernelspec": {
   "display_name": "Python 3.7.6 64-bit",
   "language": "python",
   "name": "python3"
  },
  "language_info": {
   "codemirror_mode": {
    "name": "ipython",
    "version": 3
   },
   "file_extension": ".py",
   "mimetype": "text/x-python",
   "name": "python",
   "nbconvert_exporter": "python",
   "pygments_lexer": "ipython3",
   "version": "3.7.6"
  },
  "orig_nbformat": 4,
  "vscode": {
   "interpreter": {
    "hash": "5109d816b82be14675a6b11f8e0f0d2e80f029176ed3710d54e125caa8520dfd"
   }
  }
 },
 "nbformat": 4,
 "nbformat_minor": 2
}
