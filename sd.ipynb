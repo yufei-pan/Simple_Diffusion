{
 "cells": [
  {
   "cell_type": "code",
   "execution_count": null,
   "metadata": {},
   "outputs": [],
   "source": [
    "from fastapi import FastAPI"
   ]
  },
  {
   "cell_type": "code",
   "execution_count": null,
   "metadata": {},
   "outputs": [],
   "source": [
    "def initialize():\n",
    "    modules.sd_models.setup_model()\n",
    "    codeformer.setup_model(cmd_opts.codeformer_models_path)\n",
    "    gfpgan.setup_model(cmd_opts.gfpgan_models_path)\n",
    "    shared.face_restorers.append(modules.face_restoration.FaceRestoration())\n",
    "    modelloader.load_upscalers()\n",
    "\n",
    "    modules.scripts.load_scripts()\n",
    "\n",
    "    modules.sd_models.load_model()\n",
    "    shared.opts.onchange(\"sd_model_checkpoint\", wrap_queued_call(lambda: modules.sd_models.reload_model_weights(shared.sd_model)))\n",
    "    shared.opts.onchange(\"sd_hypernetwork\", wrap_queued_call(lambda: modules.hypernetworks.hypernetwork.load_hypernetwork(shared.opts.sd_hypernetwork)))\n",
    "    shared.opts.onchange(\"sd_hypernetwork_strength\", modules.hypernetworks.hypernetwork.apply_strength)\n"
   ]
  },
  {
   "cell_type": "code",
   "execution_count": null,
   "metadata": {},
   "outputs": [],
   "source": [
    "def create_api(app):\n",
    "    from modules.api.api import Api\n",
    "    api = Api(app, queue_lock)\n",
    "    return api"
   ]
  },
  {
   "cell_type": "code",
   "execution_count": null,
   "metadata": {},
   "outputs": [],
   "source": [
    "\n",
    "initialize()\n",
    "\n",
    "app = FastAPI()\n",
    "api = create_api(app)\n",
    "\n",
    "api.launch(server_name=\"127.0.0.1\", port=7861)\n"
   ]
  },
  {
   "cell_type": "code",
   "execution_count": null,
   "metadata": {},
   "outputs": [],
   "source": []
  }
 ],
 "metadata": {
  "kernelspec": {
   "display_name": "Python 3.7.6 64-bit",
   "language": "python",
   "name": "python3"
  },
  "language_info": {
   "codemirror_mode": {
    "name": "ipython",
    "version": 3
   },
   "file_extension": ".py",
   "mimetype": "text/x-python",
   "name": "python",
   "nbconvert_exporter": "python",
   "pygments_lexer": "ipython3",
   "version": "3.7.6"
  },
  "orig_nbformat": 4,
  "vscode": {
   "interpreter": {
    "hash": "5109d816b82be14675a6b11f8e0f0d2e80f029176ed3710d54e125caa8520dfd"
   }
  }
 },
 "nbformat": 4,
 "nbformat_minor": 2
}
